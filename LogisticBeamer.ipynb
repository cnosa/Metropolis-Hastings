{
 "cells": [
  {
   "cell_type": "code",
   "execution_count": 1,
   "id": "29ec2b47-d701-46ec-8e25-13ecf0cd87d3",
   "metadata": {},
   "outputs": [],
   "source": [
    "using StatsPlots\n",
    "using LinearAlgebra\n",
    "using Random\n",
    "using Statistics\n",
    "using Distributions\n",
    "using Plots\n",
    "using LaTeXStrings"
   ]
  },
  {
   "cell_type": "code",
   "execution_count": 2,
   "id": "e2cdaaf1-da04-4ff5-aba8-e36c2cc32a3a",
   "metadata": {},
   "outputs": [
    {
     "data": {
      "text/plain": [
       "MHRW (generic function with 3 methods)"
      ]
     },
     "execution_count": 2,
     "metadata": {},
     "output_type": "execute_result"
    }
   ],
   "source": [
    "function MHRW(energia,np,p0,δ=0.5,iterations=10000)\n",
    "    \n",
    "    \n",
    "    #Muestras del algorimo\n",
    "    samples = zeros(np,iterations)\n",
    "    #Punto de partida\n",
    "    ## Se escoge el punto inicial obtenido de invertir el operador A\n",
    "    samples[:,1] = p0\n",
    "    \n",
    "    #Probabilidades\n",
    "    probabilities = zeros(iterations)\n",
    "    probabilities[1] = energia(samples[:,1])\n",
    "    \n",
    "    #Tasa de aceptación\n",
    "    rateAlpha = 0\n",
    "    \n",
    "    # Algoritmo Metrópolis-Hastings\n",
    "    for i in 1:iterations-1\n",
    "        \n",
    "        #Estado actual\n",
    "        Xᵢ = samples[:,i]\n",
    "        #Estado propuesto\n",
    "        X₊ = rand(MvNormal(Xᵢ,δ*I))\n",
    "        \n",
    "        #π(Estado actual → Estado propuesto)\n",
    "        pXᵢX₊ = energia(X₊) * pdf(MvNormal(Xᵢ,δ*I),X₊)\n",
    "        #π(Estado propuesto → Estado actual)\n",
    "        pX₊Xᵢ = energia(Xᵢ) * pdf(MvNormal(X₊,δ*I),Xᵢ)\n",
    "        #Tasa de aceptacion α\n",
    "        alpha = min(1, pXᵢX₊/pX₊Xᵢ)\n",
    "    \n",
    "        #Aceptación o rechazo del estado propuesto\n",
    "        u = rand()    \n",
    "        if u < alpha \t\t\t\t#Aceptación\n",
    "            samples[:,i+1] = X₊\n",
    "            probabilities[i+1] = energia(X₊)\n",
    "            rateAlpha += 1\n",
    "        else \t\t\t\t\t\t#Rechazo\n",
    "            samples[:,i+1] = Xᵢ\n",
    "            probabilities[i+1] = energia(Xᵢ)\n",
    "        end\n",
    "    end\n",
    "    rateAlpha /= (iterations-1)\n",
    "    MAP = samples[:,findmax(probabilities)[2]]\n",
    "    CM = [mean(row) for row in eachrow(samples)]\n",
    "    return samples, probabilities, MAP, CM, rateAlpha\n",
    "end"
   ]
  },
  {
   "cell_type": "code",
   "execution_count": null,
   "id": "7d95502e-e2c3-4baf-97d2-dc5886ff0e42",
   "metadata": {},
   "outputs": [],
   "source": [
    "r0 = 0.2 # Tasa de crecimiento\n",
    "K0 = 750 # Capacidad de carga\n",
    "Tiempo = (1:1000)*(60/1000)\n",
    "\n",
    "\n",
    "function soln_expl(p)\n",
    "    x0 = 20\n",
    "    return x0 * p[2] ./ (x0 .+ (p[2] - x0) * exp.(-p[1] * Tiempo) )\n",
    "end\n",
    "\n",
    "Crecimiento = soln_expl((r0,K0)) + 40*randn(1000) #Adición de ruido\n",
    "Crecimiento = Int.(floor.(abs.(Crecimiento)))\n",
    "\n",
    "plot(Tiempo, Crecimiento,title=\"Datos\", label=false)"
   ]
  },
  {
   "cell_type": "code",
   "execution_count": null,
   "id": "304f8d00-aa43-4f14-a804-ae2865ccbe87",
   "metadata": {},
   "outputs": [],
   "source": []
  },
  {
   "cell_type": "code",
   "execution_count": null,
   "id": "8a090909-f16c-4edb-aa32-70b60c419acc",
   "metadata": {},
   "outputs": [],
   "source": []
  }
 ],
 "metadata": {
  "kernelspec": {
   "display_name": "Julia 1.10.4",
   "language": "julia",
   "name": "julia-1.10"
  },
  "language_info": {
   "file_extension": ".jl",
   "mimetype": "application/julia",
   "name": "julia",
   "version": "1.10.4"
  }
 },
 "nbformat": 4,
 "nbformat_minor": 5
}
